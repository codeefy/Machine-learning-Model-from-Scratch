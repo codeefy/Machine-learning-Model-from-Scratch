{
 "cells": [
  {
   "cell_type": "code",
   "execution_count": 1,
   "id": "1398ef84",
   "metadata": {},
   "outputs": [],
   "source": [
    "import numpy as np \n",
    "import pandas as pd \n",
    "import matplotlib as plt "
   ]
  },
  {
   "cell_type": "code",
   "execution_count": 2,
   "id": "c9057a2f",
   "metadata": {},
   "outputs": [
    {
     "name": "stdout",
     "output_type": "stream",
     "text": [
      "[1. 2.] [300. 500.]\n"
     ]
    }
   ],
   "source": [
    "# X_train is input variable (size in 1000 sqft )\n",
    "# y_train is output variable (price in 1000 dollars)\n",
    "x_train=np.array([1.0,2.0]) \n",
    "y_train=np.array([300.0,500.0])\n",
    "print(x_train,y_train)"
   ]
  },
  {
   "cell_type": "code",
   "execution_count": null,
   "id": "45f4f345",
   "metadata": {},
   "outputs": [
    {
     "name": "stdout",
     "output_type": "stream",
     "text": [
      "x_train_shape (2,)\n",
      "number of training examples 2\n"
     ]
    }
   ],
   "source": [
    "# m is number of training examples \n",
    "print(\"x_train_shape\",x_train.shape) # it will give the shape of array (2,) means 2 rows and 1 column\n",
    "m=x_train.shape[0] # it will give number of rows , also use m=len(x_train)\n",
    "print(\"number of training examples\", m)\n"
   ]
  },
  {
   "cell_type": "markdown",
   "id": "9bfc6c4a",
   "metadata": {},
   "source": [
    "**Training**"
   ]
  },
  {
   "cell_type": "code",
   "execution_count": 9,
   "id": "11d9ce6f",
   "metadata": {},
   "outputs": [
    {
     "name": "stdout",
     "output_type": "stream",
     "text": [
      "1.0 300.0\n"
     ]
    }
   ],
   "source": [
    "i=0 #change this to 1 to see x_train[1],y_train[1]\n",
    "x_i=x_train[i] # it will give x_train[0] \n",
    "y_i=y_train[i] # it will give y_train[0]\n",
    "print(x_i,y_i)"
   ]
  },
  {
   "cell_type": "code",
   "execution_count": null,
   "id": "143ad828",
   "metadata": {},
   "outputs": [],
   "source": []
  }
 ],
 "metadata": {
  "kernelspec": {
   "display_name": "my_kernel",
   "language": "python",
   "name": "my_kernel"
  },
  "language_info": {
   "codemirror_mode": {
    "name": "ipython",
    "version": 3
   },
   "file_extension": ".py",
   "mimetype": "text/x-python",
   "name": "python",
   "nbconvert_exporter": "python",
   "pygments_lexer": "ipython3",
   "version": "3.12.4"
  }
 },
 "nbformat": 4,
 "nbformat_minor": 5
}
